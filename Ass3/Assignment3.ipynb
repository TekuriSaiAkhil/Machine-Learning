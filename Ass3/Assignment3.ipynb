{
 "cells": [
  {
   "cell_type": "code",
   "execution_count": 1,
   "id": "5d6ea25d",
   "metadata": {},
   "outputs": [],
   "source": [
    "## Start of Assignment 3\n",
    "## Name: Tekuri Sai Akhil\n",
    "## NetId: st5050"
   ]
  },
  {
   "cell_type": "code",
   "execution_count": 2,
   "id": "4987dfb2-01e7-4f7f-a7a8-3ebc3d52ddb5",
   "metadata": {},
   "outputs": [],
   "source": [
    "import numpy as np\n",
    "import pandas as pd\n",
    "import matplotlib.pyplot as plt\n",
    "from sklearn import preprocessing\n",
    "from sklearn.linear_model import LogisticRegression\n",
    "from sklearn.preprocessing import OneHotEncoder\n",
    "from sklearn.model_selection import train_test_split\n",
    "from sklearn.datasets import make_classification\n",
    "from imblearn.under_sampling import RandomUnderSampler"
   ]
  },
  {
   "cell_type": "code",
   "execution_count": 3,
   "id": "3f057cdd-bda6-47d6-bbf7-b7314716a6fc",
   "metadata": {},
   "outputs": [],
   "source": [
    "#Loading dataset and cleaning\n",
    "df = pd.read_csv('kddcup99_csv.csv')\n",
    "df.drop(df[df['label'] == 'normal'].index, inplace = True)\n",
    "df = df.drop_duplicates()\n",
    "df = df.dropna()"
   ]
  },
  {
   "cell_type": "code",
   "execution_count": 4,
   "id": "5184979f-ac4f-47c8-b14b-709475dc470c",
   "metadata": {},
   "outputs": [],
   "source": [
    "#One hot encoding of categorical features\n",
    "categories_data = df[['protocol_type','service','flag']]\n",
    "enc = OneHotEncoder(handle_unknown='ignore')\n",
    "enc.fit(categories_data)\n",
    "categories_data_transformed = enc.transform(categories_data).toarray()\n",
    "categories_data_transformed = pd.DataFrame(categories_data_transformed)"
   ]
  },
  {
   "cell_type": "code",
   "execution_count": 5,
   "id": "6813aaeb-d42a-4a67-a66b-58c2f59361db",
   "metadata": {},
   "outputs": [],
   "source": [
    "new_df = df.drop(['protocol_type','service','flag'], axis=1)\n",
    "Y = np.array(new_df['label'])\n",
    "X = pd.DataFrame(np.array(new_df.drop(['label'],axis=1)))\n",
    "X = pd.concat([X, categories_data_transformed], axis=1)"
   ]
  },
  {
   "cell_type": "code",
   "execution_count": 6,
   "id": "48a57d07",
   "metadata": {},
   "outputs": [],
   "source": [
    "column_names = df.columns\n",
    "column_names = np.append(np.array(column_names[0]),(np.array(column_names[4:-1])))\n",
    "column_names = np.append(column_names,np.array(['protocol_type']*3))\n",
    "column_names = np.append(column_names,np.array(['service']*62))\n",
    "column_names = np.append(column_names,np.array(['flag']*11))"
   ]
  },
  {
   "cell_type": "code",
   "execution_count": 7,
   "id": "b6584d29-4946-4e10-aba3-cd3090179d91",
   "metadata": {},
   "outputs": [],
   "source": [
    "X = np.array(X)\n",
    "Y[(Y =='ipsweep')]=0.0\n",
    "Y[(Y =='nmap')]=0.0\n",
    "Y[(Y =='portsweep')]=0.0\n",
    "Y[(Y =='satan')]=0.0\n",
    "Y[(Y !=0.0)]=1.0\n",
    "Y = Y.astype('float64')"
   ]
  },
  {
   "cell_type": "code",
   "execution_count": 8,
   "id": "b5d02127-fc1e-4610-bf6f-74a2dc02fcc9",
   "metadata": {},
   "outputs": [
    {
     "name": "stdout",
     "output_type": "stream",
     "text": [
      "(57754, 114)\n",
      "(57754,)\n"
     ]
    }
   ],
   "source": [
    "#unbalances dataset shapes\n",
    "print(X.shape)\n",
    "print(Y.shape)"
   ]
  },
  {
   "cell_type": "code",
   "execution_count": 9,
   "id": "920dd6d2-91f9-460a-976e-2b63993a86d4",
   "metadata": {},
   "outputs": [],
   "source": [
    "#balancing the dataset\n",
    "rus = RandomUnderSampler()\n",
    "X, Y = rus.fit_resample(X, Y)\n",
    "scaler = preprocessing.StandardScaler().fit(X)\n",
    "X = scaler.transform(X)"
   ]
  },
  {
   "cell_type": "code",
   "execution_count": 10,
   "id": "80b2437a-ec65-4b69-921e-9b42c00e3194",
   "metadata": {},
   "outputs": [
    {
     "name": "stdout",
     "output_type": "stream",
     "text": [
      "(4262, 114)\n",
      "(4262,)\n"
     ]
    }
   ],
   "source": [
    "#balances dataset shapes\n",
    "print(X.shape)\n",
    "print(Y.shape)"
   ]
  },
  {
   "cell_type": "code",
   "execution_count": 11,
   "id": "9a8a2423-8b0d-4175-929f-05c51fdf3e5c",
   "metadata": {},
   "outputs": [
    {
     "name": "stdout",
     "output_type": "stream",
     "text": [
      "(3409, 114)\n",
      "(3409,)\n",
      "(853, 114)\n",
      "(853,)\n"
     ]
    }
   ],
   "source": [
    "#Splitting the data into train(80%) and test(20%) randomly \n",
    "X_train, X_test, Y_train, Y_test = train_test_split(X, Y, test_size=0.2)\n",
    "\n",
    "#train dataset shapes\n",
    "print(X_train.shape)\n",
    "print(Y_train.shape)\n",
    "\n",
    "#test dataset shapes\n",
    "print(X_test.shape)\n",
    "print(Y_test.shape)"
   ]
  },
  {
   "cell_type": "code",
   "execution_count": 12,
   "id": "1bc9edbd-04d4-46fa-9cdb-b12094e1b351",
   "metadata": {},
   "outputs": [],
   "source": [
    "#without regularization\n",
    "logreg = LogisticRegression(penalty=None, max_iter =100)\n",
    "logreg.fit(X_train, Y_train)\n",
    "train_accuracy = logreg.score(X_train, Y_train)\n",
    "test_accuracy = logreg.score(X_test, Y_test)\n",
    "number_of_iterations = logreg.n_iter_[0]\n",
    "w = logreg.coef_[0]"
   ]
  },
  {
   "cell_type": "code",
   "execution_count": 13,
   "id": "a96c504d-8c5d-4254-a85c-30032ff7cc6d",
   "metadata": {},
   "outputs": [
    {
     "name": "stdout",
     "output_type": "stream",
     "text": [
      "No regularization is used:\n",
      "Train accuracy = 1.0\n",
      "Test accuracy = 0.9953106682297772\n",
      "Number of iteration to converge = 31\n",
      "No. I don't think my model over fits because it is able to perform well on both train and test data\n"
     ]
    }
   ],
   "source": [
    "print(\"No regularization is used:\")\n",
    "print(\"Train accuracy = \"+str(train_accuracy))\n",
    "print(\"Test accuracy = \"+str(test_accuracy))\n",
    "print(\"Number of iteration to converge = \"+str(number_of_iterations))\n",
    "print(\"No. I don't think my model over fits because it is able to perform well on both train and test data\")"
   ]
  },
  {
   "cell_type": "code",
   "execution_count": 14,
   "id": "2b6867ec",
   "metadata": {},
   "outputs": [
    {
     "name": "stdout",
     "output_type": "stream",
     "text": [
      "Top 10 features have the largest weights in absolute value:\n",
      "\n",
      "1) (feature, weight) = (diff_srv_rate,-19.333346971543595)\n",
      "2) (feature, weight) = (dst_host_serror_rate,17.481377082175825)\n",
      "3) (feature, weight) = (dst_host_diff_srv_rate,-16.314895710684016)\n",
      "4) (feature, weight) = (wrong_fragment,16.213626740208852)\n",
      "5) (feature, weight) = (dst_host_same_src_port_rate,-15.917116375479944)\n",
      "6) (feature, weight) = (serror_rate,9.53236926408896)\n",
      "7) (feature, weight) = (dst_host_rerror_rate,8.387182091900778)\n",
      "8) (feature, weight) = (same_srv_rate,-7.9492096687030696)\n",
      "9) (feature, weight) = (logged_in,7.371997350507549)\n",
      "10) (feature, weight) = (count,6.551174525274073)\n",
      "\n",
      "These are potentially most informative features for the trained model\n",
      "You can see the values of each weight ranges from -19.333346971543595 to 17.481377082175825\n"
     ]
    }
   ],
   "source": [
    "indices = np.argsort(np.abs(w))[::-1]\n",
    "print(\"Top 10 features have the largest weights in absolute value:\\n\")\n",
    "for i in range(10):\n",
    "    print(str(i+1)+\") (feature, weight) = (\"+str(column_names[indices[i]])+\",\"+ str(w[indices[i]])+\")\")\n",
    "print(\"\\nThese are potentially most informative features for the trained model\")\n",
    "print(\"You can see the values of each weight ranges from \" +str(np.min(w))+\" to \"+str(np.max(w)))"
   ]
  },
  {
   "cell_type": "code",
   "execution_count": 15,
   "id": "e8fd7458",
   "metadata": {},
   "outputs": [
    {
     "name": "stdout",
     "output_type": "stream",
     "text": [
      "Let's look at the top 5 features:\n",
      "1) 'dst_host_diff_srv_rate' describes '% of different services on current host'\n",
      "2) 'dst_host_serror_rate' describes '% of connections to current host that has an S0 error'\n",
      "3) 'dst_host_same_src_port_rate' describes '% of connections to current host having same src port'\n",
      "4) 'diff_srv_rate' describes '% of connections to different services'\n",
      "5) 'dst_host_same_srv_rate' describes '% of connections having same dst host and using same service'\n",
      " and so on....\n",
      "\n",
      "From the defination of probe attack 'Probing attacks are an invasive method for bypassing security measures by observing the physical silicon implementation of a chip. As an invasive attack, one directly accesses the internal wires and connections of a targeted device and extracts sensitive information'\n",
      "\n",
      "1) Number of connections may be a good idea of the type of attack\n",
      "2) From looking at the top 5 features, they represent the % of connection/services on the hosts\n",
      "3) Therefore it makes sense for these features to have the absolute high values for weights\n"
     ]
    }
   ],
   "source": [
    "print(\"Let's look at the top 5 features:\")\n",
    "print(\"1) 'dst_host_diff_srv_rate' describes '% of different services on current host'\")\n",
    "print(\"2) 'dst_host_serror_rate' describes '% of connections to current host that has an S0 error'\")\n",
    "print(\"3) 'dst_host_same_src_port_rate' describes '% of connections to current host having same src port'\")\n",
    "print(\"4) 'diff_srv_rate' describes '% of connections to different services'\")\n",
    "print(\"5) 'dst_host_same_srv_rate' describes '% of connections having same dst host and using same service'\")\n",
    "print(\" and so on....\\n\")\n",
    "print(\"From the defination of probe attack 'Probing attacks are an invasive method for bypassing security measures by observing the physical silicon implementation of a chip. As an invasive attack, one directly accesses the internal wires and connections of a targeted device and extracts sensitive information'\\n\")\n",
    "print(\"1) Number of connections may be a good idea of the type of attack\")\n",
    "print(\"2) From looking at the top 5 features, they represent the % of connection/services on the hosts\")\n",
    "print(\"3) Therefore it makes sense for these features to have the absolute high values for weights\")"
   ]
  },
  {
   "cell_type": "code",
   "execution_count": 16,
   "id": "bc671b9d-0225-4bda-b578-e82e2deb5ac2",
   "metadata": {},
   "outputs": [],
   "source": [
    "#with L1 regularization\n",
    "logreg = LogisticRegression(penalty='l1',solver ='liblinear', max_iter =100)\n",
    "logreg.fit(X_train, Y_train)\n",
    "train_accuracy = logreg.score(X_train, Y_train)\n",
    "test_accuracy = logreg.score(X_test, Y_test)\n",
    "number_of_iterations = logreg.n_iter_[0]\n",
    "w = logreg.coef_[0]"
   ]
  },
  {
   "cell_type": "code",
   "execution_count": 17,
   "id": "0e74ed04-046c-4095-b31b-b3bcee2fb3d9",
   "metadata": {},
   "outputs": [
    {
     "name": "stdout",
     "output_type": "stream",
     "text": [
      "Train accuracy = 1.0\n",
      "Test accuracy = 0.9988276670574443\n",
      "Number of iteration to converge = 12\n"
     ]
    }
   ],
   "source": [
    "print(\"Train accuracy = \"+str(train_accuracy))\n",
    "print(\"Test accuracy = \"+str(test_accuracy))\n",
    "print(\"Number of iteration to converge = \"+str(number_of_iterations))"
   ]
  },
  {
   "cell_type": "code",
   "execution_count": 18,
   "id": "2941d44c",
   "metadata": {},
   "outputs": [
    {
     "data": {
      "image/png": "[encoded data removed]",
      "text/plain": [
       "<Figure size 640x480 with 1 Axes>"
      ]
     },
     "metadata": {},
     "output_type": "display_data"
    },
    {
     "name": "stdout",
     "output_type": "stream",
     "text": [
      "column name variable mention in x-axis is printed below\n"
     ]
    }
   ],
   "source": [
    "fig = plt.figure()\n",
    "plt.plot(np.arange(114), w, 'go--', linewidth=1, markersize=2)\n",
    "plt.xlabel(\"Index of a feture in column_names variable\")\n",
    "plt.ylabel(\"Weight of that feture\")\n",
    "plt.title(\"L1 regularization\")\n",
    "plt.show()\n",
    "print(\"column name variable mention in x-axis is printed below\")"
   ]
  },
  {
   "cell_type": "code",
   "execution_count": 19,
   "id": "724f856f-e864-4366-a1e1-cdf416e998f8",
   "metadata": {},
   "outputs": [],
   "source": [
    "#with L2 regularization\n",
    "logreg = LogisticRegression(penalty='l2',solver ='liblinear', max_iter =100)\n",
    "logreg.fit(X_train, Y_train)\n",
    "train_accuracy = logreg.score(X_train, Y_train)\n",
    "test_accuracy = logreg.score(X_test, Y_test)\n",
    "number_of_iterations = logreg.n_iter_[0]\n",
    "w = logreg.coef_[0]"
   ]
  },
  {
   "cell_type": "code",
   "execution_count": 20,
   "id": "fba3cfc9-cada-47b4-bcb7-9dc2a3e67d11",
   "metadata": {},
   "outputs": [
    {
     "name": "stdout",
     "output_type": "stream",
     "text": [
      "Train accuracy = 1.0\n",
      "Test accuracy = 0.9964830011723329\n",
      "Number of iteration to converge = 8\n"
     ]
    }
   ],
   "source": [
    "print(\"Train accuracy = \"+str(train_accuracy))\n",
    "print(\"Test accuracy = \"+str(test_accuracy))\n",
    "print(\"Number of iteration to converge = \"+str(number_of_iterations))"
   ]
  },
  {
   "cell_type": "code",
   "execution_count": 21,
   "id": "eb4626d2",
   "metadata": {},
   "outputs": [
    {
     "data": {
      "image/png": "[encoded data removed]",
      "text/plain": [
       "<Figure size 640x480 with 1 Axes>"
      ]
     },
     "metadata": {},
     "output_type": "display_data"
    },
    {
     "name": "stdout",
     "output_type": "stream",
     "text": [
      "column name variable mention in x-axis is printed below\n"
     ]
    }
   ],
   "source": [
    "fig = plt.figure()\n",
    "plt.plot(np.arange(114), w, 'go--', linewidth=1, markersize=2)\n",
    "plt.xlabel(\"Index of a feture in column_names variable\")\n",
    "plt.ylabel(\"Weight of that feture\")\n",
    "plt.title(\"L2 regularization\")\n",
    "plt.show()\n",
    "print(\"column name variable mention in x-axis is printed below\")"
   ]
  },
  {
   "cell_type": "code",
   "execution_count": 22,
   "id": "acb5131e",
   "metadata": {},
   "outputs": [
    {
     "name": "stdout",
     "output_type": "stream",
     "text": [
      "1) The train and test accuracies of both L1 and L2 are approximately same\n",
      "2) Both L1 and L2 regularizations takes less time to converge comared to the case with no regularization term\n",
      "3) As you can see in the L1 regularization plot, most of the weights are zero. This is expected because in L1 regularization we add |w| term to the loss function and it gives out the sparse weights with most of the weights being 0\n",
      "4) As you can see in the L2 regularization polt, the range of magnitudes of weights in L2 regression are very small compared to the range of magnitudes weights when no regularization is applied. This is expected becuase we added |w|^2 term to the loss function and L2 gives out weights with small magnitudes\n"
     ]
    }
   ],
   "source": [
    "print(\"1) The train and test accuracies of both L1 and L2 are approximately same\")\n",
    "print(\"2) Both L1 and L2 regularizations takes less time to converge comared to the case with no regularization term\")\n",
    "print(\"3) As you can see in the L1 regularization plot, most of the weights are zero. This is expected because in L1 regularization we add |w| term to the loss function and it gives out the sparse weights with most of the weights being 0\")\n",
    "print(\"4) As you can see in the L2 regularization polt, the range of magnitudes of weights in L2 regression are very small compared to the range of magnitudes weights when no regularization is applied. This is expected becuase we added |w|^2 term to the loss function and L2 gives out weights with small magnitudes\")"
   ]
  },
  {
   "cell_type": "code",
   "execution_count": 23,
   "id": "f97e0eae",
   "metadata": {},
   "outputs": [
    {
     "name": "stdout",
     "output_type": "stream",
     "text": [
      "['duration' 'src_bytes' 'dst_bytes' 'land' 'wrong_fragment' 'urgent' 'hot'\n",
      " 'num_failed_logins' 'logged_in' 'lnum_compromised' 'lroot_shell'\n",
      " 'lsu_attempted' 'lnum_root' 'lnum_file_creations' 'lnum_shells'\n",
      " 'lnum_access_files' 'lnum_outbound_cmds' 'is_host_login' 'is_guest_login'\n",
      " 'count' 'srv_count' 'serror_rate' 'srv_serror_rate' 'rerror_rate'\n",
      " 'srv_rerror_rate' 'same_srv_rate' 'diff_srv_rate' 'srv_diff_host_rate'\n",
      " 'dst_host_count' 'dst_host_srv_count' 'dst_host_same_srv_rate'\n",
      " 'dst_host_diff_srv_rate' 'dst_host_same_src_port_rate'\n",
      " 'dst_host_srv_diff_host_rate' 'dst_host_serror_rate'\n",
      " 'dst_host_srv_serror_rate' 'dst_host_rerror_rate'\n",
      " 'dst_host_srv_rerror_rate' 'protocol_type' 'protocol_type'\n",
      " 'protocol_type' 'service' 'service' 'service' 'service' 'service'\n",
      " 'service' 'service' 'service' 'service' 'service' 'service' 'service'\n",
      " 'service' 'service' 'service' 'service' 'service' 'service' 'service'\n",
      " 'service' 'service' 'service' 'service' 'service' 'service' 'service'\n",
      " 'service' 'service' 'service' 'service' 'service' 'service' 'service'\n",
      " 'service' 'service' 'service' 'service' 'service' 'service' 'service'\n",
      " 'service' 'service' 'service' 'service' 'service' 'service' 'service'\n",
      " 'service' 'service' 'service' 'service' 'service' 'service' 'service'\n",
      " 'service' 'service' 'service' 'service' 'service' 'service' 'service'\n",
      " 'service' 'flag' 'flag' 'flag' 'flag' 'flag' 'flag' 'flag' 'flag' 'flag'\n",
      " 'flag' 'flag']\n"
     ]
    }
   ],
   "source": [
    "print(column_names)"
   ]
  },
  {
   "cell_type": "code",
   "execution_count": 24,
   "id": "ae6801a4-4ece-4cfc-a2a2-e96a6688f1a8",
   "metadata": {},
   "outputs": [
    {
     "name": "stdout",
     "output_type": "stream",
     "text": [
      "Different strengths for L2 regularization:\n",
      "\n",
      "(train_accuracy,test_accuracy,regularization_strength)=(0.8457025520680551, 0.8733880422039859, 99999.99999999999)\n",
      "(train_accuracy,test_accuracy,regularization_strength)=(0.8671164564388384, 0.8874560375146542, 10000.0)\n",
      "(train_accuracy,test_accuracy,regularization_strength)=(0.9909064241713113, 0.9871043376318874, 1000.0)\n",
      "(train_accuracy,test_accuracy,regularization_strength)=(0.9950132003520094, 0.9906213364595545, 100.0)\n",
      "(train_accuracy,test_accuracy,regularization_strength)=(0.9973599295981226, 0.9941383352872216, 10.0)\n",
      "(train_accuracy,test_accuracy,regularization_strength)=(1.0, 0.9964830011723329, 1.0)\n",
      "(train_accuracy,test_accuracy,regularization_strength)=(1.0, 0.9964830011723329, 0.1)\n",
      "(train_accuracy,test_accuracy,regularization_strength)=(1.0, 0.9964830011723329, 0.01)\n",
      "(train_accuracy,test_accuracy,regularization_strength)=(1.0, 0.9964830011723329, 0.001)\n",
      "(train_accuracy,test_accuracy,regularization_strength)=(1.0, 0.9964830011723329, 0.0001)\n",
      "(train_accuracy,test_accuracy,regularization_strength)=(1.0, 0.9964830011723329, 1e-05)\n"
     ]
    }
   ],
   "source": [
    "print(\"Different strengths for L2 regularization:\\n\")\n",
    "for c in [.00001, .0001, .001, .01,.1,1,10,100,1000,10000,100000]:\n",
    "    logreg = LogisticRegression(penalty='l2',solver ='liblinear',C=c, max_iter =100)\n",
    "    logreg.fit(X_train, Y_train)\n",
    "    train_accuracy = logreg.score(X_train, Y_train)\n",
    "    test_accuracy = logreg.score(X_test, Y_test)\n",
    "    print(\"(train_accuracy,test_accuracy,regularization_strength)=\" +str((train_accuracy,test_accuracy, 1/c)))"
   ]
  },
  {
   "cell_type": "code",
   "execution_count": 25,
   "id": "71ebab4d-0a48-4407-9e73-48ff95a2de16",
   "metadata": {},
   "outputs": [
    {
     "name": "stdout",
     "output_type": "stream",
     "text": [
      "There are 3 things that we can observe from this:\n",
      "1) As the regularization_strength decreases/regularization_strength is very low, The model is behaving like there is no regularization. This is because the when regularization_strength is low the regularization term becomes neglegible in the loss function when compared to the log loss term\n",
      "2) As the regularization_strength increases/regularization_strength is very high, the model behaves poorly both on train and test because when the regularization_strength is very high the loss function focuses more on regularization term than the log loss and fails to fit the model accurately\n",
      "3) When the regularization_strength is in the medium range (1000 - 1, in this case), you can see the desired results of adding regularization term\n"
     ]
    }
   ],
   "source": [
    "print(\"There are 3 things that we can observe from this:\")\n",
    "print(\"1) As the regularization_strength decreases/regularization_strength is very low, The model is behaving like there is no regularization. This is because the when regularization_strength is low the regularization term becomes neglegible in the loss function when compared to the log loss term\")\n",
    "print(\"2) As the regularization_strength increases/regularization_strength is very high, the model behaves poorly both on train and test because when the regularization_strength is very high the loss function focuses more on regularization term than the log loss and fails to fit the model accurately\")\n",
    "print(\"3) When the regularization_strength is in the medium range (1000 - 1, in this case), you can see the desired results of adding regularization term\")"
   ]
  },
  {
   "cell_type": "code",
   "execution_count": 26,
   "id": "04f8e342",
   "metadata": {},
   "outputs": [],
   "source": [
    "## End of Assignment 3"
   ]
  }
 ],
 "metadata": {
  "kernelspec": {
   "display_name": "Python 3 (ipykernel)",
   "language": "python",
   "name": "python3"
  },
  "language_info": {
   "codemirror_mode": {
    "name": "ipython",
    "version": 3
   },
   "file_extension": ".py",
   "mimetype": "text/x-python",
   "name": "python",
   "nbconvert_exporter": "python",
   "pygments_lexer": "ipython3",
   "version": "3.11.4"
  }
 },
 "nbformat": 4,
 "nbformat_minor": 5
}
